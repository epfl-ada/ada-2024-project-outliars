{
 "cells": [
  {
   "cell_type": "markdown",
   "id": "d46d5498-d965-4b04-916d-c552603d2053",
   "metadata": {},
   "source": [
    "# Grandmaster's Path: Decoding Difficulty and Winning Strategies in Wikispeedia"
   ]
  },
  {
   "cell_type": "markdown",
   "id": "30e68584-f6fb-4cb6-88cf-6a9e17f49a64",
   "metadata": {},
   "source": [
    "In this notebook, we present the most important things we noticed when analysing the dataset. We then use them to implement interesting additions to the Wikispeedia game, such as inherent difficulty of missions, ingame analysis of played games and an Elo system for players. We propose a way of calculating in-game scores and Elo based on the already existing chess methods.\n",
    "\n",
    "Our main goal was to gamify Wikispeedia, which makes the game more strategic and motivates players to play thanks to the Elo system and given feedback. Using results from this notebook, the game can be modified in a way where players are given hints at the right time and are given missions of appropriate difficulty."
   ]
  },
  {
   "cell_type": "code",
   "execution_count": 5,
   "id": "7cd08703-c4d9-44e0-957c-cb72ea6cbb36",
   "metadata": {},
   "outputs": [],
   "source": [
    "import numpy as np\n",
    "import pandas as pd\n",
    "import os\n",
    "import sys\n",
    "\n",
    "from matplotlib import pyplot as plt\n",
    "from urllib.parse import unquote\n",
    "import seaborn as sns\n",
    "import math \n",
    "import scipy.stats as stats\n",
    "import statsmodels.api as sm\n",
    "import random\n",
    "import sklearn\n",
    "from sklearn.metrics import accuracy_score, precision_score, recall_score, f1_score, mean_squared_error, r2_score\n",
    "from sklearn.model_selection import train_test_split\n",
    "from sklearn.preprocessing import StandardScaler\n",
    "\n",
    "\n",
    "sys.path.append(os.path.abspath(os.path.join(os.getcwd(), 'src')))\n",
    "\n",
    "from utils.data_processing import *\n",
    "from utils.graph_processing import *\n",
    "from utils.ingame_processing import *\n",
    "from models.logistic_regression import LogisticRegression"
   ]
  },
  {
   "cell_type": "markdown",
   "id": "0d77dd86-073a-4272-bcf0-10b50a0f20da",
   "metadata": {},
   "source": [
    "## Main observations from the dataset"
   ]
  },
  {
   "cell_type": "markdown",
   "id": "349ae748-0361-4735-a3ae-7e0737e552fb",
   "metadata": {},
   "source": [
    "In this section, we present our main findings during the preprocessing of the dataset."
   ]
  },
  {
   "cell_type": "code",
   "execution_count": 10,
   "id": "2d9f80e7-f856-46a7-a3ac-45545bc693e9",
   "metadata": {},
   "outputs": [
    {
     "name": "stdout",
     "output_type": "stream",
     "text": [
      "Loaded 4604 articles in df of shape (4604, 1)\n",
      "Loaded 119882 links in df of shape (119882, 2)\n",
      "After adding missing links, there are 119888 links in df\n"
     ]
    }
   ],
   "source": [
    "articles_df = load_article_df(\"./data/paths-and-graph/articles.tsv\")\n",
    "links_df = load_links_df(\"./data/paths-and-graph/links.tsv\")\n",
    "adj_matrix = construct_adjecency_matrix(links_df, articles_df['article_name'].tolist())"
   ]
  },
  {
   "cell_type": "markdown",
   "id": "3cb6a747-ec9f-4e9f-90db-d14d3083a6e1",
   "metadata": {},
   "source": [
    "### Articles and links"
   ]
  },
  {
   "cell_type": "code",
   "execution_count": null,
   "id": "15e10092-eedf-47a8-814f-41b9c44f8cb8",
   "metadata": {},
   "outputs": [],
   "source": []
  },
  {
   "cell_type": "markdown",
   "id": "f96a462b-e252-4ff8-8d4b-d4c7ba96229e",
   "metadata": {},
   "source": [
    "## Inherent difficulty"
   ]
  },
  {
   "cell_type": "markdown",
   "id": "f389705a-8a3f-46ca-a12e-bcf8fe476910",
   "metadata": {},
   "source": [
    "## In-game tracking"
   ]
  },
  {
   "cell_type": "markdown",
   "id": "a9114856-e8d9-429f-8799-86a3c89531a0",
   "metadata": {},
   "source": [
    "## Elo system"
   ]
  },
  {
   "cell_type": "code",
   "execution_count": null,
   "id": "db058a71-3991-4ded-ba72-b42325b0cdc6",
   "metadata": {},
   "outputs": [],
   "source": []
  }
 ],
 "metadata": {
  "kernelspec": {
   "display_name": "Python 3 (ipykernel)",
   "language": "python",
   "name": "python3"
  },
  "language_info": {
   "codemirror_mode": {
    "name": "ipython",
    "version": 3
   },
   "file_extension": ".py",
   "mimetype": "text/x-python",
   "name": "python",
   "nbconvert_exporter": "python",
   "pygments_lexer": "ipython3",
   "version": "3.11.9"
  }
 },
 "nbformat": 4,
 "nbformat_minor": 5
}
