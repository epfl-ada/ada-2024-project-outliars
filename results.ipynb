{
 "cells": [
  {
   "cell_type": "markdown",
   "id": "d46d5498-d965-4b04-916d-c552603d2053",
   "metadata": {},
   "source": [
    "# Grandmaster's Path: Decoding Difficulty and Winning Strategies in Wikispeedia"
   ]
  },
  {
   "cell_type": "markdown",
   "id": "30e68584-f6fb-4cb6-88cf-6a9e17f49a64",
   "metadata": {},
   "source": [
    "In this notebook, we present the most important informations and conclusions we discovered when analysing the dataset. We then use them to implement interesting additions to the Wikispeedia game, such as inherent difficulty of missions and an Elo system for players. We propose a way of calculating in-game scores and use these to analyse how well a game was played.\n",
    "\n",
    "Our main goal was to gamify Wikispeedia, which makes the game more strategic and motivates players to play thanks to the Elo system and given feedback. Using results from this notebook, the game can be modified in a way where players are given hints at the right time and are given missions of appropriate difficulty."
   ]
  },
  {
   "cell_type": "markdown",
   "id": "0d77dd86-073a-4272-bcf0-10b50a0f20da",
   "metadata": {},
   "source": [
    "## Main observations from the dataset"
   ]
  },
  {
   "cell_type": "markdown",
   "id": "f96a462b-e252-4ff8-8d4b-d4c7ba96229e",
   "metadata": {},
   "source": [
    "## Inherent difficulty"
   ]
  },
  {
   "cell_type": "markdown",
   "id": "f389705a-8a3f-46ca-a12e-bcf8fe476910",
   "metadata": {},
   "source": [
    "## In-game tracking"
   ]
  },
  {
   "cell_type": "markdown",
   "id": "a9114856-e8d9-429f-8799-86a3c89531a0",
   "metadata": {},
   "source": [
    "## Elo system"
   ]
  },
  {
   "cell_type": "code",
   "execution_count": null,
   "id": "db058a71-3991-4ded-ba72-b42325b0cdc6",
   "metadata": {},
   "outputs": [],
   "source": []
  }
 ],
 "metadata": {
  "kernelspec": {
   "display_name": "Python 3 (ipykernel)",
   "language": "python",
   "name": "python3"
  },
  "language_info": {
   "codemirror_mode": {
    "name": "ipython",
    "version": 3
   },
   "file_extension": ".py",
   "mimetype": "text/x-python",
   "name": "python",
   "nbconvert_exporter": "python",
   "pygments_lexer": "ipython3",
   "version": "3.11.9"
  }
 },
 "nbformat": 4,
 "nbformat_minor": 5
}
